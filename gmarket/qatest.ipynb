{
 "cells": [
  {
   "cell_type": "code",
   "execution_count": null,
   "metadata": {},
   "outputs": [],
   "source": [
    "pip install selenium"
   ]
  },
  {
   "cell_type": "code",
   "execution_count": 1,
   "metadata": {},
   "outputs": [],
   "source": [
    "from selenium import webdriver\n",
    "from selenium.webdriver.common.keys import Keys\n",
    "from selenium.webdriver.common.by import By \n",
    "from selenium.webdriver.support.ui import WebDriverWait\n",
    "from selenium.webdriver.support import expected_conditions as EC\n",
    "\n",
    "import time\n",
    "import json"
   ]
  },
  {
   "cell_type": "code",
   "execution_count": 8,
   "metadata": {},
   "outputs": [],
   "source": [
    "driver = webdriver.Chrome()\n",
    "driver.get(\"https://www.gmarket.co.kr/\")"
   ]
  },
  {
   "cell_type": "markdown",
   "metadata": {},
   "source": [
    "### 로그인\n"
   ]
  },
  {
   "cell_type": "code",
   "execution_count": 11,
   "metadata": {},
   "outputs": [],
   "source": [
    "# 이미 로그인되어 있는지 확인\n",
    "if \"로그인\" not in driver.page_source:\n",
    "    print(\"이미 로그인이 되어있음\")\n",
    "\n",
    "else:\n",
    "    with open('gmarket_id.json', 'r') as json_file:\n",
    "        data = json.load(json_file)\n",
    "        username = data.get('username')\n",
    "        password = data.get('password')\n",
    "\n",
    "\n",
    "    login_link = driver.find_element(By.LINK_TEXT, \"로그인\")\n",
    "    login_link.click()\n",
    "\n",
    "    id_input = driver.find_element(By.ID, \"typeMemberInputId\")\n",
    "    password_input = driver.find_element(By.ID, \"typeMemberInputPassword\")\n",
    "\n",
    "    id_input.clear()\n",
    "    id_input.send_keys(username)\n",
    "\n",
    "    password_input.clear()\n",
    "    password_input.send_keys(password)\n",
    "\n",
    "\n",
    "    login_button = driver.find_element(By.ID, \"btn_memberLogin\")\n",
    "    login_button.click()\n"
   ]
  },
  {
   "cell_type": "markdown",
   "metadata": {},
   "source": [
    "### 상품 구매 및 환불 시나리오"
   ]
  },
  {
   "cell_type": "code",
   "execution_count": 7,
   "metadata": {},
   "outputs": [],
   "source": [
    "# 검색 및 필터링 후 첫 상품 구매\n",
    "search_box = driver.find_element(By.NAME, \"keyword\")\n",
    "search_box.send_keys(\"생수\")\n",
    "search_box.send_keys(Keys.RETURN)\n",
    "product_list1 = driver.find_elements(By.XPATH, \"//div[@class='box__item-container']\")\n",
    "assert product_list1, \"검색결과가 없음\"\n",
    "\n",
    "smile_delivery_checkbox = driver.find_element(By.XPATH, \"//input[@value='스마일배송']\")\n",
    "smile_delivery_checkbox.click()\n",
    "\n",
    "smile_product_list = driver.find_elements(By.XPATH, \"//div[@class='box__item-container']\")\n",
    "assert smile_product_list, \"스마일배송 상품 없음\"\n",
    "\n",
    "if smile_product_list:\n",
    "    first_product = smile_product_list[0]\n",
    "    product_link = first_product.find_element(By.TAG_NAME, 'a')\n",
    "    product_url = product_link.get_attribute('href')\n",
    "    driver.get(product_url)\n",
    "\n",
    "select_button = driver.find_element(By.CSS_SELECTOR, \"div.section_origin_area button.bt_select\")\n",
    "select_button.click()\n",
    "\n",
    "buy_button = driver.find_element(By.ID, \"coreInsOrderBtn\")\n",
    "buy_button.click()\n",
    "\n",
    "wait = WebDriverWait(driver, 10)\n",
    "time.sleep(5)\n",
    "\n",
    "normal_payment_label = driver.find_element(By.CSS_SELECTOR, 'label[for=\"xo_id_radio_button_large_method_normal\"].text__pay-title')\n",
    "normal_payment_label.click()\n",
    "\n",
    "virtual_account_radio = driver.find_element(By.XPATH, \"//input[@id='pay_chk_VirtualAccount']\")\n",
    "driver.execute_script(\"arguments[0].click();\", virtual_account_radio)\n",
    "woori_bank = driver.find_element(By.XPATH, \"//a[contains(., '우리은행')]\")\n",
    "woori_bank.click()\n",
    "\n",
    "payment_button = driver.find_element(By.XPATH, \"//button[contains(., '결제하기')]\")\n",
    "payment_button.click()\n",
    "\n",
    "wait = WebDriverWait(driver, 15)\n",
    "time.sleep(5)\n",
    "\n",
    "order_history_button = driver.find_element(By.XPATH, \"//button[@data-montelena-acode='200007340']\")\n",
    "order_history_button.click()\n",
    "\n",
    "\n",
    "# 주문 취소\n",
    "wait = WebDriverWait(driver, 15)\n",
    "cancel_request_button = driver.find_element(By.XPATH, \"//td[@class='b_table_right']//a[contains(text(), '취소신청')]\")\n",
    "cancel_request_button.click()\n",
    "\n",
    "time.sleep(3)\n",
    "iframe = driver.find_element(By.ID, 'popLayerIframe1')\n",
    "driver.switch_to.frame(iframe)\n",
    "cancel_complete_button = driver.find_element(By.LINK_TEXT, '취소 신청 완료')\n",
    "cancel_complete_button.click()\n",
    "\n",
    "time.sleep(3)\n",
    "okay_button = driver.find_element(By.CLASS_NAME, 'link__confirm--active')\n",
    "okay_button.click()\n",
    "driver.switch_to.default_content()\n"
   ]
  }
 ],
 "metadata": {
  "kernelspec": {
   "display_name": "Python 3",
   "language": "python",
   "name": "python3"
  },
  "language_info": {
   "codemirror_mode": {
    "name": "ipython",
    "version": 3
   },
   "file_extension": ".py",
   "mimetype": "text/x-python",
   "name": "python",
   "nbconvert_exporter": "python",
   "pygments_lexer": "ipython3",
   "version": "3.12.0"
  }
 },
 "nbformat": 4,
 "nbformat_minor": 2
}
