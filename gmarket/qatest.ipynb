{
 "cells": [
  {
   "cell_type": "code",
   "execution_count": null,
   "metadata": {},
   "outputs": [],
   "source": [
    "pip install selenium"
   ]
  },
  {
   "cell_type": "code",
   "execution_count": null,
   "metadata": {},
   "outputs": [],
   "source": [
    "from selenium import webdriver\n",
    "from selenium.webdriver.common.keys import Keys\n",
    "from selenium.webdriver.common.by import By \n",
    "from selenium.webdriver.support import expected_conditions as EC\n",
    "\n",
    "import json"
   ]
  },
  {
   "cell_type": "code",
   "execution_count": null,
   "metadata": {},
   "outputs": [],
   "source": [
    "driver = webdriver.Chrome()\n",
    "driver.get(\"https://www.gmarket.co.kr/\")"
   ]
  },
  {
   "cell_type": "code",
   "execution_count": null,
   "metadata": {},
   "outputs": [],
   "source": [
    "# 로그인 진행\n",
    "with open('gmarket_id.json', 'r') as json_file:\n",
    "    data = json.load(json_file)\n",
    "    username = data.get('username')\n",
    "    password = data.get('password')\n",
    "\n",
    "login_link = driver.find_element(By.LINK_TEXT, \"로그인\")\n",
    "login_link.click()\n",
    "\n",
    "id_input = driver.find_element(By.ID, \"typeMemberInputId\")\n",
    "password_input = driver.find_element(By.ID, \"typeMemberInputPassword\")\n",
    "\n",
    "id_input.clear()\n",
    "id_input.send_keys(username)\n",
    "\n",
    "password_input.clear()\n",
    "password_input.send_keys(password)\n",
    "\n",
    "\n",
    "login_button = driver.find_element(By.ID, \"btn_memberLogin\")\n",
    "login_button.click()\n"
   ]
  }
 ],
 "metadata": {
  "kernelspec": {
   "display_name": "Python 3",
   "language": "python",
   "name": "python3"
  },
  "language_info": {
   "codemirror_mode": {
    "name": "ipython",
    "version": 3
   },
   "file_extension": ".py",
   "mimetype": "text/x-python",
   "name": "python",
   "nbconvert_exporter": "python",
   "pygments_lexer": "ipython3",
   "version": "3.12.0"
  }
 },
 "nbformat": 4,
 "nbformat_minor": 2
}
